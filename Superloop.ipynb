{
  "nbformat": 4,
  "nbformat_minor": 0,
  "metadata": {
    "colab": {
      "name": "Superloop.ipynb",
      "provenance": []
    },
    "kernelspec": {
      "name": "python3",
      "display_name": "Python 3"
    }
  },
  "cells": [
    {
      "cell_type": "markdown",
      "metadata": {
        "id": "X6G8odxYyzvP"
      },
      "source": [
        "TEAM MEMBERS: Ashish, Milind, Jui, Sakshi"
      ]
    },
    {
      "cell_type": "code",
      "metadata": {
        "id": "LaE_rVW-w_O6"
      },
      "source": [
        "from bs4 import BeautifulSoup as soup\n",
        "from urllib import request\n",
        "import pandas as pd"
      ],
      "execution_count": null,
      "outputs": []
    },
    {
      "cell_type": "markdown",
      "metadata": {
        "id": "nLsR2l2CN86R"
      },
      "source": [
        "mines comments etc"
      ]
    },
    {
      "cell_type": "code",
      "metadata": {
        "id": "wbjrIXthsGUG"
      },
      "source": [
        "def comment_miner(url):\n",
        "  per_page_df= pd.DataFrame(columns = [\"Name\",\"Title\", \"Review\", \"Rating\"])\n",
        "  # Opening Webpage\n",
        "  page_open = request.urlopen(url)\n",
        "  # Loading Webpage\n",
        "  html_page=page_open.read()\n",
        "  #Closing the web page\n",
        "  page_open.close()\n",
        "  # Parsing Web Page\n",
        "  parsed_page = soup(html_page,\"html.parser\")\n",
        "  full_comment_box = parsed_page.findAll(\"div\",{\"class\":\"_2wrUUKlw _3hFEdNs8\"})\n",
        "  for i in range(len(full_comment_box)):\n",
        "    name = full_comment_box[i].find(\"a\",{\"class\":\"ui_header_link _1r_My98y\"}).text.strip()\n",
        "    comment = full_comment_box[i].find(\"q\",{\"class\":\"IRsGHoPm\"}).text.strip()\n",
        "    title = full_comment_box[i].find(\"div\",{\"class\":\"glasR4aX\"}).text.strip()\n",
        "    bubble_class = full_comment_box[i].find(\"div\",{\"class\":\"nf9vGX55\"})\n",
        "    bubble_rating = bubble_class.find(\"span\",{\"class\":\"ui_bubble_rating\"}).get(\"class\")[1][7]\n",
        "    per_page_df=per_page_df.append({\"Name\": name,\"Title\": title, \"Review\": comment, \"Rating\": bubble_rating},ignore_index=True)\n",
        "  return per_page_df"
      ],
      "execution_count": null,
      "outputs": []
    },
    {
      "cell_type": "markdown",
      "metadata": {
        "id": "8bSWl5BVN_Ap"
      },
      "source": [
        "goes to every comment inside one hotel"
      ]
    },
    {
      "cell_type": "code",
      "metadata": {
        "id": "hExmR0KJsLfx"
      },
      "source": [
        "def comment_url_creater(main_url):\n",
        "  #Creating a dataframe of review links for the hotel\n",
        "  # Opening Webpage\n",
        "  page_open = request.urlopen(main_url)\n",
        "  # Loading Webpage\n",
        "  html_page=page_open.read()\n",
        "  #Closing the web page\n",
        "  page_open.close()\n",
        "  # Parsing Web Page\n",
        "  parsed_page = soup(html_page,\"html.parser\")\n",
        "  last_page = parsed_page.findAll(\"a\",{\"class\": \"pageNum cx_brand_refresh_phase2 \"})\n",
        "  last_page_number = int(last_page[len(last_page)-1].text.strip())\n",
        "  url_df = pd.DataFrame(columns= {\"URL\"})\n",
        "  for i in range(1,last_page_number):\n",
        "    new_url=main_url.split(\"Reviews-\")[0]+\"Reviews-or\"+str(i*5)+\"-\"+main_url.split(\"Reviews-\")[1]\n",
        "    url_df=url_df.append({\"URL\":new_url},ignore_index=True)\n",
        "  return url_df\n"
      ],
      "execution_count": null,
      "outputs": []
    },
    {
      "cell_type": "markdown",
      "metadata": {
        "id": "xNP1q6Z0OHm_"
      },
      "source": [
        "appends all hotel detail into one data frame (for 1 HOTEL)"
      ]
    },
    {
      "cell_type": "code",
      "metadata": {
        "id": "RfvsRuocsRei"
      },
      "source": [
        "def page(hotel_url):\n",
        "  comments_url_df = comment_url_creater(hotel_url)\n",
        "  all_hotel_comments_df= pd.DataFrame(columns = [\"Name\",\"Title\", \"Review\", \"Rating\"])\n",
        "  for i in range(len(comments_url_df)):\n",
        "    temp_df=comment_miner(comments_url_df['URL'][i])\n",
        "    all_hotel_comments_df = all_hotel_comments_df.append(temp_df,ignore_index=True)\n",
        "  return all_hotel_comments_df"
      ],
      "execution_count": null,
      "outputs": []
    },
    {
      "cell_type": "code",
      "metadata": {
        "id": "NarrwfaUym-T"
      },
      "source": [
        "import time\n",
        "import random"
      ],
      "execution_count": null,
      "outputs": []
    },
    {
      "cell_type": "markdown",
      "metadata": {
        "id": "H88gm-AsPvEL"
      },
      "source": [
        "to give list of url of each hotel on each page"
      ]
    },
    {
      "cell_type": "code",
      "metadata": {
        "id": "kGy8Z90-P1XT"
      },
      "source": [
        "search_url='https://www.tripadvisor.in/Hotels-g295424-Dubai_Emirate_of_Dubai-Hotels.html'\n",
        "page_open = request.urlopen(search_url)\n",
        "html_page=page_open.read()\n",
        "page_open.close()\n",
        "parsed_page = soup(html_page,\"html.parser\")\n",
        "list_of_hotels= parsed_page.findAll(\"a\",{\"class\":\"pageNum last cx_brand_refresh_phase2\"})\n",
        "last_page_numbers= int(list_of_hotels[len(list_of_hotels)-1].text.strip())\n",
        "url_dff = pd.DataFrame(columns= {\"URL\"})\n",
        "m=pd.DataFrame({\"URL\":['https://www.tripadvisor.in/Hotels-g295424-Dubai_Emirate_of_Dubai-Hotels.html']})\n",
        "url_dff=url_dff.append(m)\n",
        "for i in range(1,last_page_numbers):\n",
        "  new_urll=search_url.split(\"g295424-\")[0]+\"g295424-oa\"+str(i*30)+\"-\"+search_url.split(\"g295424-\")[1]\n",
        "  url_dff=url_dff.append({\"URL\":new_urll},ignore_index=True)"
      ],
      "execution_count": null,
      "outputs": []
    },
    {
      "cell_type": "code",
      "metadata": {
        "id": "I8SPxMFIO7Gu"
      },
      "source": [
        "list_of_hotelss = pd.DataFrame(columns= {\"URLS:\"})\n",
        "for j in range(len(url_dff)):\n",
        "  url=url_dff.loc[j,\"URL\"]\n",
        "  page_open = request.urlopen(url)\n",
        "  html_page=page_open.read()\n",
        "  page_open.close()\n",
        "  parsed_page = soup(html_page,\"html.parser\")\n",
        "  list_of_hotels = parsed_page.findAll(\"div\",{\"class\":\"listing_title\"})\n",
        "  time.sleep(random.randint(2,5))\n",
        "  for i in range(1,len(list_of_hotels)):\n",
        "    k=list_of_hotels[i].find(\"a\",{\"class\":\"property_title prominent \"}).get(\"href\")\n",
        "    k1=\"https://www.tripadvisor.in\"+k\n",
        "    list_of_hotelss=list_of_hotelss.append({\"URLS:\":k1},ignore_index=True)"
      ],
      "execution_count": null,
      "outputs": []
    },
    {
      "cell_type": "code",
      "metadata": {
        "id": "UocWUtGFTi3y",
        "colab": {
          "base_uri": "https://localhost:8080/",
          "height": 419
        },
        "outputId": "5403c9b3-b8cd-41cf-faaa-64dea8ac9f9e"
      },
      "source": [
        "list_of_hotelss"
      ],
      "execution_count": null,
      "outputs": [
        {
          "output_type": "execute_result",
          "data": {
            "text/html": [
              "<div>\n",
              "<style scoped>\n",
              "    .dataframe tbody tr th:only-of-type {\n",
              "        vertical-align: middle;\n",
              "    }\n",
              "\n",
              "    .dataframe tbody tr th {\n",
              "        vertical-align: top;\n",
              "    }\n",
              "\n",
              "    .dataframe thead th {\n",
              "        text-align: right;\n",
              "    }\n",
              "</style>\n",
              "<table border=\"1\" class=\"dataframe\">\n",
              "  <thead>\n",
              "    <tr style=\"text-align: right;\">\n",
              "      <th></th>\n",
              "      <th>URLS:</th>\n",
              "    </tr>\n",
              "  </thead>\n",
              "  <tbody>\n",
              "    <tr>\n",
              "      <th>0</th>\n",
              "      <td>https://www.tripadvisor.in/Hotel_Review-g29542...</td>\n",
              "    </tr>\n",
              "    <tr>\n",
              "      <th>1</th>\n",
              "      <td>https://www.tripadvisor.in/Hotel_Review-g29542...</td>\n",
              "    </tr>\n",
              "    <tr>\n",
              "      <th>2</th>\n",
              "      <td>https://www.tripadvisor.in/Hotel_Review-g29542...</td>\n",
              "    </tr>\n",
              "    <tr>\n",
              "      <th>3</th>\n",
              "      <td>https://www.tripadvisor.in/Hotel_Review-g29542...</td>\n",
              "    </tr>\n",
              "    <tr>\n",
              "      <th>4</th>\n",
              "      <td>https://www.tripadvisor.in/Hotel_Review-g29542...</td>\n",
              "    </tr>\n",
              "    <tr>\n",
              "      <th>...</th>\n",
              "      <td>...</td>\n",
              "    </tr>\n",
              "    <tr>\n",
              "      <th>1273</th>\n",
              "      <td>https://www.tripadvisor.in/Hotel_Review-g29542...</td>\n",
              "    </tr>\n",
              "    <tr>\n",
              "      <th>1274</th>\n",
              "      <td>https://www.tripadvisor.in/Hotel_Review-g29542...</td>\n",
              "    </tr>\n",
              "    <tr>\n",
              "      <th>1275</th>\n",
              "      <td>https://www.tripadvisor.in/Hotel_Review-g29542...</td>\n",
              "    </tr>\n",
              "    <tr>\n",
              "      <th>1276</th>\n",
              "      <td>https://www.tripadvisor.in/Hotel_Review-g26302...</td>\n",
              "    </tr>\n",
              "    <tr>\n",
              "      <th>1277</th>\n",
              "      <td>https://www.tripadvisor.in/Hotel_Review-g26302...</td>\n",
              "    </tr>\n",
              "  </tbody>\n",
              "</table>\n",
              "<p>1278 rows × 1 columns</p>\n",
              "</div>"
            ],
            "text/plain": [
              "                                                  URLS:\n",
              "0     https://www.tripadvisor.in/Hotel_Review-g29542...\n",
              "1     https://www.tripadvisor.in/Hotel_Review-g29542...\n",
              "2     https://www.tripadvisor.in/Hotel_Review-g29542...\n",
              "3     https://www.tripadvisor.in/Hotel_Review-g29542...\n",
              "4     https://www.tripadvisor.in/Hotel_Review-g29542...\n",
              "...                                                 ...\n",
              "1273  https://www.tripadvisor.in/Hotel_Review-g29542...\n",
              "1274  https://www.tripadvisor.in/Hotel_Review-g29542...\n",
              "1275  https://www.tripadvisor.in/Hotel_Review-g29542...\n",
              "1276  https://www.tripadvisor.in/Hotel_Review-g26302...\n",
              "1277  https://www.tripadvisor.in/Hotel_Review-g26302...\n",
              "\n",
              "[1278 rows x 1 columns]"
            ]
          },
          "metadata": {
            "tags": []
          },
          "execution_count": 9
        }
      ]
    },
    {
      "cell_type": "code",
      "metadata": {
        "id": "fYYA_gVKWU8I",
        "colab": {
          "base_uri": "https://localhost:8080/",
          "height": 308
        },
        "outputId": "0de61600-fdbd-462e-f8ad-a4113b5a1138"
      },
      "source": [
        "for i in range(len(list_of_hotelss)):\n",
        "#  final_df=page(list_of_hotelss)\n",
        "  print(i)\n",
        "  final_df=page(list_of_hotelss.loc[i,\"URLS:\"])\n",
        "  print(final_df)"
      ],
      "execution_count": null,
      "outputs": [
        {
          "output_type": "stream",
          "text": [
            "0\n",
            "                     Name  ... Rating\n",
            "0         Abegael De Luna  ...      3\n",
            "1             Abeer Tayel  ...      5\n",
            "2           Freedom616099  ...      5\n",
            "3                 Mandi T  ...      5\n",
            "4           rejoykoithara  ...      5\n",
            "..                    ...  ...    ...\n",
            "497    Cosmopolitan645275  ...      5\n",
            "498  IQ Perfect Shot (UK)  ...      5\n",
            "499              Andrea A  ...      5\n",
            "500            Amar Gupta  ...      5\n",
            "501                  Jo W  ...      3\n",
            "\n",
            "[502 rows x 4 columns]\n",
            "1\n"
          ],
          "name": "stdout"
        }
      ]
    }
  ]
}